{
 "cells": [
  {
   "cell_type": "markdown",
   "metadata": {},
   "source": [
    "# Arithematic Operators using User Input\n",
    "\n",
    "- Roll : 380054\n",
    "- Name : Ali Abid"
   ]
  },
  {
   "cell_type": "code",
   "execution_count": 3,
   "metadata": {},
   "outputs": [
    {
     "name": "stdout",
     "output_type": "stream",
     "text": [
      "x 50\n",
      "y 4\n",
      "addition 54\n",
      "subtraction 46\n",
      "miltiplication 200\n",
      "division 12.5\n",
      "modulus 2\n"
     ]
    }
   ],
   "source": [
    "x = int(input('please enter first value: '))\n",
    "y = int(input('please enter second value: '))\n",
    "\n",
    "print(\"x\", x)\n",
    "print(\"y\", y)\n",
    "\n",
    "\n",
    "print('addition', x + y)\n",
    "print('subtraction', x - y)\n",
    "print('miltiplication', x * y)\n",
    "print('division', x / y)\n",
    "print('modulus', x % y)"
   ]
  },
  {
   "cell_type": "markdown",
   "metadata": {},
   "source": [
    "# Task -2"
   ]
  },
  {
   "cell_type": "code",
   "execution_count": 8,
   "metadata": {},
   "outputs": [
    {
     "name": "stdout",
     "output_type": "stream",
     "text": [
      "North\n"
     ]
    }
   ],
   "source": [
    "address = \"North Nazimabad, Kharachi\"\n",
    "start_index = int(input('please enter starting index: '))\n",
    "end_index = int(input('please enter ending index: '))\n",
    "\n",
    "print(address[start_index:end_index+1])"
   ]
  }
 ],
 "metadata": {
  "kernelspec": {
   "display_name": "Pythonaids",
   "language": "python",
   "name": "python3"
  },
  "language_info": {
   "codemirror_mode": {
    "name": "ipython",
    "version": 3
   },
   "file_extension": ".py",
   "mimetype": "text/x-python",
   "name": "python",
   "nbconvert_exporter": "python",
   "pygments_lexer": "ipython3",
   "version": "3.13.2"
  }
 },
 "nbformat": 4,
 "nbformat_minor": 2
}

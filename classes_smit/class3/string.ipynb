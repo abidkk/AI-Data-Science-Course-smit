{
 "cells": [
  {
   "cell_type": "markdown",
   "metadata": {},
   "source": [
    "# String Attributes"
   ]
  },
  {
   "cell_type": "code",
   "execution_count": 1,
   "metadata": {},
   "outputs": [
    {
     "name": "stdout",
     "output_type": "stream",
     "text": [
      "AAbid khokhar\n"
     ]
    }
   ],
   "source": [
    "username = 'AAbid khokhar'\n",
    "print(username)"
   ]
  },
  {
   "cell_type": "markdown",
   "metadata": {},
   "source": [
    "# 1. index & Slicing"
   ]
  },
  {
   "cell_type": "code",
   "execution_count": 40,
   "metadata": {},
   "outputs": [
    {
     "name": "stdout",
     "output_type": "stream",
     "text": [
      "A\n",
      "d\n",
      "AAbid\n",
      "khokhar\n",
      "bid kh\n",
      "Abdkohr\n",
      "r\n",
      "rahkohk dibAA\n"
     ]
    }
   ],
   "source": [
    "\n",
    "print(username[0])\n",
    "print(username[4])\n",
    "\n",
    "# Slicing \n",
    "\n",
    "print(username[:5]) # index 0 - 4\n",
    "print(username[6:]) # index 6 to onwords\n",
    "print(username[2:8]) # index 2 - 7\n",
    "\n",
    "print(username[0:13:2]) # start, end , skip\n",
    "\n",
    "\n",
    "# Negetive indexing\n",
    "print(username[-1]) # r : right to left\n",
    "# print(username[-1:-10]) # slicing does not apply to negetive indexing\n",
    "\n",
    "# Reversing\n",
    "print(username[::-1])\n",
    "\n"
   ]
  },
  {
   "cell_type": "markdown",
   "metadata": {},
   "source": [
    "#  length"
   ]
  },
  {
   "cell_type": "code",
   "execution_count": 22,
   "metadata": {},
   "outputs": [
    {
     "name": "stdout",
     "output_type": "stream",
     "text": [
      "13\n"
     ]
    }
   ],
   "source": [
    "print(len(username))"
   ]
  },
  {
   "cell_type": "code",
   "execution_count": null,
   "metadata": {},
   "outputs": [],
   "source": []
  }
 ],
 "metadata": {
  "kernelspec": {
   "display_name": "Pythonaids",
   "language": "python",
   "name": "python3"
  },
  "language_info": {
   "codemirror_mode": {
    "name": "ipython",
    "version": 3
   },
   "file_extension": ".py",
   "mimetype": "text/x-python",
   "name": "python",
   "nbconvert_exporter": "python",
   "pygments_lexer": "ipython3",
   "version": "3.13.2"
  }
 },
 "nbformat": 4,
 "nbformat_minor": 2
}

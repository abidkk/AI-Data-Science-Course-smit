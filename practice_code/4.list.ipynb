{
 "cells": [
  {
   "cell_type": "markdown",
   "metadata": {},
   "source": [
    "# List\n",
    " - List is a collecion of elements \n",
    " - Lists are mutable(changeable): mean can add or remove element\n",
    " - Access element by Index\n",
    " "
   ]
  },
  {
   "cell_type": "markdown",
   "metadata": {},
   "source": [
    "    Fruits"
   ]
  },
  {
   "cell_type": "code",
   "execution_count": 6,
   "metadata": {},
   "outputs": [
    {
     "name": "stdout",
     "output_type": "stream",
     "text": [
      "['Apple', 'Banana', 'Peach', 'Guave', 'Pineapple', 'Grapes']\n",
      "<class 'list'>\n",
      "6\n"
     ]
    }
   ],
   "source": [
    "fruits = ['Apple', 'Banana', 'Peach', 'Guave', 'Pineapple', 'Grapes']\n",
    "print(fruits)\n",
    "print(type(fruits)) # list\n",
    "print(len(fruits)) # 6"
   ]
  },
  {
   "cell_type": "markdown",
   "metadata": {},
   "source": [
    "    Indexing"
   ]
  },
  {
   "cell_type": "code",
   "execution_count": 7,
   "metadata": {},
   "outputs": [
    {
     "name": "stdout",
     "output_type": "stream",
     "text": [
      "Apple\n",
      "Grapes\n"
     ]
    },
    {
     "ename": "IndexError",
     "evalue": "list index out of range",
     "output_type": "error",
     "traceback": [
      "\u001b[1;31m---------------------------------------------------------------------------\u001b[0m",
      "\u001b[1;31mIndexError\u001b[0m                                Traceback (most recent call last)",
      "Cell \u001b[1;32mIn[7], line 3\u001b[0m\n\u001b[0;32m      1\u001b[0m \u001b[38;5;28mprint\u001b[39m(fruits[\u001b[38;5;241m0\u001b[39m]) \u001b[38;5;66;03m# Apple\u001b[39;00m\n\u001b[0;32m      2\u001b[0m \u001b[38;5;28mprint\u001b[39m(fruits[\u001b[38;5;241m5\u001b[39m]) \u001b[38;5;66;03m# Grapes\u001b[39;00m\n\u001b[1;32m----> 3\u001b[0m \u001b[38;5;28mprint\u001b[39m(\u001b[43mfruits\u001b[49m\u001b[43m[\u001b[49m\u001b[38;5;241;43m6\u001b[39;49m\u001b[43m]\u001b[49m) \u001b[38;5;66;03m# index error\u001b[39;00m\n",
      "\u001b[1;31mIndexError\u001b[0m: list index out of range"
     ]
    }
   ],
   "source": [
    "print(fruits[0]) # Apple\n",
    "print(fruits[5]) # Grapes\n",
    "print(fruits[6]) # index error"
   ]
  },
  {
   "cell_type": "markdown",
   "metadata": {},
   "source": [
    "# Add & Remove element in the list\n"
   ]
  },
  {
   "cell_type": "code",
   "execution_count": null,
   "metadata": {},
   "outputs": [
    {
     "name": "stdout",
     "output_type": "stream",
     "text": [
      "['Blue', 'Black', 'White', 'Orange', 'Yellow', 'Green']\n"
     ]
    }
   ],
   "source": [
    "colors = ['Blue', 'Black', 'White', 'Orange', 'Yellow', 'Green']\n",
    "print(colors)\n"
   ]
  },
  {
   "cell_type": "markdown",
   "metadata": {},
   "source": [
    "    1. pop : to remove last element"
   ]
  },
  {
   "cell_type": "code",
   "execution_count": null,
   "metadata": {},
   "outputs": [
    {
     "name": "stdout",
     "output_type": "stream",
     "text": [
      "['Blue', 'Black', 'White', 'Orange', 'Yellow']\n"
     ]
    }
   ],
   "source": [
    "colors.pop()\n",
    "print(colors) # Green Removed"
   ]
  },
  {
   "cell_type": "markdown",
   "metadata": {},
   "source": [
    "    2. append(): to add new element at ending position"
   ]
  },
  {
   "cell_type": "code",
   "execution_count": null,
   "metadata": {},
   "outputs": [
    {
     "name": "stdout",
     "output_type": "stream",
     "text": [
      "['Blue', 'Black', 'White', 'Orange', 'Yellow', 'brown']\n"
     ]
    }
   ],
   "source": [
    "colors.append('brown')\n",
    "print(colors)\n"
   ]
  },
  {
   "cell_type": "markdown",
   "metadata": {},
   "source": [
    "    3. insert(2, 'value'): add new element on specific index"
   ]
  },
  {
   "cell_type": "code",
   "execution_count": null,
   "metadata": {},
   "outputs": [
    {
     "name": "stdout",
     "output_type": "stream",
     "text": [
      "['Blue', 'Black', 'Banana', 'White', 'Orange', 'Yellow', 'brown']\n"
     ]
    }
   ],
   "source": [
    "colors.insert(2, 'Banana')\n",
    "print(colors)"
   ]
  },
  {
   "cell_type": "markdown",
   "metadata": {},
   "source": [
    "    4. Sort List:\n",
    "     "
   ]
  },
  {
   "cell_type": "code",
   "execution_count": null,
   "metadata": {},
   "outputs": [
    {
     "name": "stdout",
     "output_type": "stream",
     "text": [
      "['Banana', 'Black', 'Blue', 'Orange', 'White', 'Yellow', 'brown']\n"
     ]
    }
   ],
   "source": [
    "print(sorted(colors))"
   ]
  },
  {
   "cell_type": "code",
   "execution_count": null,
   "metadata": {},
   "outputs": [
    {
     "name": "stdout",
     "output_type": "stream",
     "text": [
      "[2, 8, 4, 6, 10]\n",
      "Sorted  [2, 4, 6, 8, 10]\n"
     ]
    }
   ],
   "source": [
    "evens = [2,8,4,6,10]\n",
    "print(evens)\n",
    "\n",
    "# Sorting\n",
    "sorted_even = sorted(evens)\n",
    "print(\"Sorted \", sorted_even)"
   ]
  },
  {
   "cell_type": "code",
   "execution_count": null,
   "metadata": {},
   "outputs": [
    {
     "name": "stdout",
     "output_type": "stream",
     "text": [
      "['e', 'd', 'c', 'b', 'a']\n",
      "Sorted ['a', 'b', 'c', 'd', 'e']\n"
     ]
    }
   ],
   "source": [
    "letters = ['e', 'd', 'c', 'b', 'a']\n",
    "print(letters)\n",
    "\n",
    "# sorting\n",
    "sorted_letter = sorted(letters)\n",
    "print('Sorted', sorted_letter)"
   ]
  },
  {
   "cell_type": "markdown",
   "metadata": {},
   "source": [
    "    5. Get all unique elemetns"
   ]
  },
  {
   "cell_type": "code",
   "execution_count": null,
   "metadata": {},
   "outputs": [
    {
     "name": "stdout",
     "output_type": "stream",
     "text": [
      "['Karachi', 'Lahore', 'Islamabad', 'Karachi', 'Hyderabad', 'Lahore']\n",
      "{'Karachi', 'Hyderabad', 'Islamabad', 'Lahore'}\n",
      "<class 'list'>\n"
     ]
    }
   ],
   "source": [
    "cities = ['Karachi', 'Lahore','Islamabad', 'Karachi', 'Hyderabad', 'Lahore']\n",
    "print(cities)\n",
    "\n",
    "#  get unique\n",
    "# print(set(cities[:]))\n",
    "unique_cities = set(cities[:])\n",
    "print(unique_cities)\n",
    "print(type(cities)) # list"
   ]
  },
  {
   "cell_type": "markdown",
   "metadata": {},
   "source": [
    "# for loop"
   ]
  },
  {
   "cell_type": "code",
   "execution_count": 8,
   "metadata": {},
   "outputs": [
    {
     "name": "stdout",
     "output_type": "stream",
     "text": [
      "Karachi\n",
      "Lahore\n",
      "Islamabad\n",
      "Karachi\n",
      "Hyderabad\n",
      "Lahore\n"
     ]
    }
   ],
   "source": [
    "for c in cities:\n",
    "    print(c)"
   ]
  },
  {
   "cell_type": "code",
   "execution_count": null,
   "metadata": {},
   "outputs": [],
   "source": []
  }
 ],
 "metadata": {
  "kernelspec": {
   "display_name": "Pythonaids",
   "language": "python",
   "name": "python3"
  },
  "language_info": {
   "codemirror_mode": {
    "name": "ipython",
    "version": 3
   },
   "file_extension": ".py",
   "mimetype": "text/x-python",
   "name": "python",
   "nbconvert_exporter": "python",
   "pygments_lexer": "ipython3",
   "version": "3.13.2"
  }
 },
 "nbformat": 4,
 "nbformat_minor": 2
}

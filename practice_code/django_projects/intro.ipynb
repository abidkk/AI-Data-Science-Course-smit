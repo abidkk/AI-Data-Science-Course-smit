{
 "cells": [
  {
   "cell_type": "markdown",
   "metadata": {},
   "source": [
    "# Django\n"
   ]
  },
  {
   "cell_type": "markdown",
   "metadata": {},
   "source": [
    "- create virtual env\n",
    "- install django\n",
    "- create django project\n",
    "- create django app\n",
    "- add the app in settings.py in INSTALLED_APPS array\n",
    "- create routes\n",
    "    - create views.py file in project root dir where urls.py exists\n",
    "    - add urls in urls.py file\n",
    "- Templates\n",
    "    - render html file as a web page\n",
    "- Static\n",
    "    - add css in hmtl page using static\n",
    "\n",
    "    "
   ]
  },
  {
   "cell_type": "markdown",
   "metadata": {},
   "source": [
    "# Create Django Project"
   ]
  },
  {
   "cell_type": "code",
   "execution_count": 3,
   "metadata": {},
   "outputs": [],
   "source": [
    "# jango-admin startproject djangotest"
   ]
  },
  {
   "cell_type": "markdown",
   "metadata": {},
   "source": [
    "\n",
    "# Create Django App \n",
    "- in the project root directory where manage.py file exists"
   ]
  },
  {
   "cell_type": "code",
   "execution_count": 4,
   "metadata": {},
   "outputs": [],
   "source": [
    " # python manage.py startapp test1app"
   ]
  },
  {
   "cell_type": "markdown",
   "metadata": {},
   "source": [
    "# Run App"
   ]
  },
  {
   "cell_type": "code",
   "execution_count": 5,
   "metadata": {},
   "outputs": [],
   "source": [
    "#  python manage.py runserver"
   ]
  },
  {
   "cell_type": "markdown",
   "metadata": {},
   "source": [
    "# Create views.py \n",
    "\n",
    "-  home\n",
    "- about"
   ]
  },
  {
   "cell_type": "code",
   "execution_count": null,
   "metadata": {},
   "outputs": [],
   "source": [
    "from django.http import HttpResponse\n",
    "\n",
    "\n",
    "def home(request):\n",
    "    return HttpResponse(\"Welcome to home page\")\n",
    "\n",
    "\n",
    "def about(request):\n",
    "    return HttpResponse(\"Welcome to about page\")"
   ]
  },
  {
   "cell_type": "markdown",
   "metadata": {},
   "source": [
    "# urls.py\n"
   ]
  },
  {
   "cell_type": "code",
   "execution_count": null,
   "metadata": {},
   "outputs": [],
   "source": [
    "from django.contrib import admin\n",
    "from django.urls import path  # import path \n",
    "from .import views # import views\n",
    "\n",
    "urlpatterns = [\n",
    "    path(\"admin/\", admin.site.urls),\n",
    "    path('', views.home, name=\"home\" ), # home page url \n",
    "    path('about/', views.about , name='about page'), # about page url\n",
    "]"
   ]
  },
  {
   "cell_type": "markdown",
   "metadata": {},
   "source": [
    "# Templating\n",
    " - Create a folder templates folder in project root dir where manage.py exists \n",
    " - Create html file in the folder\n",
    " - render html file in views.py\n",
    " - add html path in urls.py \n",
    " - add templete dir in settings.py"
   ]
  },
  {
   "cell_type": "markdown",
   "metadata": {},
   "source": [
    "# views.py \n",
    "    - for templates rendering"
   ]
  },
  {
   "cell_type": "code",
   "execution_count": 6,
   "metadata": {},
   "outputs": [],
   "source": [
    "from django.shortcuts import render\n",
    "\n",
    "\n",
    "def about(request):\n",
    "    return render(request, 'about.html')"
   ]
  },
  {
   "cell_type": "markdown",
   "metadata": {},
   "source": [
    "# settings.py\n",
    "\n",
    "- in TEMPLATES array add this :   "
   ]
  },
  {
   "cell_type": "code",
   "execution_count": null,
   "metadata": {},
   "outputs": [],
   "source": [
    "\"DIRS\": ['templates'],"
   ]
  },
  {
   "cell_type": "markdown",
   "metadata": {},
   "source": [
    "# Static \n",
    "-  add css\n",
    " - Create a folder static in project root dir where manage.py exists \n",
    " - Create css file in the folder and add some css\n",
    " "
   ]
  },
  {
   "cell_type": "markdown",
   "metadata": {},
   "source": [
    "# linking css to HTML"
   ]
  },
  {
   "cell_type": "code",
   "execution_count": null,
   "metadata": {},
   "outputs": [],
   "source": [
    "{% load static %}\n",
    "<link rel='stylesheet' href=\"{% static \"style.css\" %}\" >"
   ]
  },
  {
   "cell_type": "markdown",
   "metadata": {},
   "source": [
    "# Setting.py for static config"
   ]
  },
  {
   "cell_type": "code",
   "execution_count": null,
   "metadata": {},
   "outputs": [],
   "source": [
    "import os\n",
    "STATIC_URL = \"static/\"\n",
    "STATICFILES_DIRS = [os.path.join(BASE_DIR, 'static')]"
   ]
  },
  {
   "cell_type": "markdown",
   "metadata": {},
   "source": [
    "# Create Django App"
   ]
  },
  {
   "cell_type": "code",
   "execution_count": 8,
   "metadata": {},
   "outputs": [],
   "source": [
    "# python manage.py startapp appname"
   ]
  },
  {
   "cell_type": "markdown",
   "metadata": {},
   "source": [
    "- add the app to main project settings.py"
   ]
  },
  {
   "cell_type": "code",
   "execution_count": null,
   "metadata": {},
   "outputs": [],
   "source": [
    "# Application definition\n",
    "\n",
    "INSTALLED_APPS = [\n",
    "    \"django.contrib.admin\",\n",
    "    \"django.contrib.auth\",\n",
    "    \"django.contrib.contenttypes\",\n",
    "    \"django.contrib.sessions\",\n",
    "    \"django.contrib.messages\",\n",
    "    \"django.contrib.staticfiles\",\n",
    "    \"app1\" # app\n",
    "]"
   ]
  },
  {
   "cell_type": "markdown",
   "metadata": {},
   "source": [
    "- working with templates in app\n",
    "    - create a folder named templates in app dir\n",
    "    - create html file inside the templates\n",
    "    "
   ]
  },
  {
   "cell_type": "markdown",
   "metadata": {},
   "source": [
    "- Create views for app in veiws.py"
   ]
  },
  {
   "cell_type": "code",
   "execution_count": null,
   "metadata": {},
   "outputs": [],
   "source": [
    "from django.shortcuts import render\n",
    "\n",
    "# Create your views here.\n",
    "def app_home(request):\n",
    "    return render(request, 'app.html')"
   ]
  },
  {
   "cell_type": "markdown",
   "metadata": {},
   "source": [
    "- create urls.py"
   ]
  },
  {
   "cell_type": "code",
   "execution_count": null,
   "metadata": {},
   "outputs": [],
   "source": [
    "from django.urls import path \n",
    "from .import views \n",
    "\n",
    "urlpatterns = [\n",
    "    path('', views.app_home, name='app'),\n",
    "]"
   ]
  },
  {
   "cell_type": "markdown",
   "metadata": {},
   "source": [
    "- Trenser control from project (urls.py) to app (urls.py)"
   ]
  },
  {
   "cell_type": "code",
   "execution_count": null,
   "metadata": {},
   "outputs": [],
   "source": [
    "from django.urls import path , include\n",
    "path('app/', include('app1.urls'))"
   ]
  },
  {
   "cell_type": "markdown",
   "metadata": {},
   "source": [
    "# templating | Layout\n",
    "\n",
    " -  create layout.html in templates folder of main project"
   ]
  },
  {
   "cell_type": "markdown",
   "metadata": {},
   "source": [
    "- layout.html"
   ]
  },
  {
   "cell_type": "code",
   "execution_count": null,
   "metadata": {},
   "outputs": [],
   "source": [
    "\n",
    "#  {% load static %}\n",
    "# <!DOCTYPE html>\n",
    "# <html lang=\"en\">\n",
    "# <head>\n",
    "#     <meta charset=\"UTF-8\">\n",
    "#     <meta name=\"viewport\" content=\"width=device-width, initial-scale=1.0\">\n",
    "#     <link rel='stylesheet' href=\"{% static \"style.css\" %}\" >\n",
    "#     <title>\n",
    "#         {% block title %} default title{% endblock %}\n",
    "#     </title>\n",
    "# </head>\n",
    "# <body>\n",
    "#     <nav>\n",
    "#         <ul>\n",
    "#             <li>Home</li>\n",
    "#             <li>About</li>\n",
    "#             <li>Contact</li>\n",
    "#             <li>App</li>\n",
    "#         </ul>\n",
    "#     </nav>\n",
    "#     {% block content %}{% endblock %}\n",
    "\n",
    "# </body>\n",
    "# </html>"
   ]
  },
  {
   "cell_type": "markdown",
   "metadata": {},
   "source": [
    "- contact.html"
   ]
  },
  {
   "cell_type": "code",
   "execution_count": 11,
   "metadata": {},
   "outputs": [],
   "source": [
    "# {% extends \"layout.html\" %}\n",
    "\n",
    "# {% block title  %}Contact {% endblock %}\n",
    "# {% block content %}\n",
    "# <h1>This is a contact page</h1>\n",
    "# <h2>contact us</h2>\n",
    "# {% endblock %}"
   ]
  },
  {
   "cell_type": "markdown",
   "metadata": {},
   "source": [
    "- blog.html : app page"
   ]
  },
  {
   "cell_type": "code",
   "execution_count": 12,
   "metadata": {},
   "outputs": [],
   "source": [
    "# {% extends \"layout.html\" %}\n",
    "\n",
    "# {% block title  %}Blog {% endblock %}\n",
    "# {% block content %}Blog page{% endblock %}"
   ]
  },
  {
   "cell_type": "markdown",
   "metadata": {},
   "source": []
  },
  {
   "cell_type": "markdown",
   "metadata": {},
   "source": [
    "# Admin "
   ]
  },
  {
   "cell_type": "markdown",
   "metadata": {},
   "source": [
    "- Change admin password"
   ]
  },
  {
   "cell_type": "code",
   "execution_count": null,
   "metadata": {},
   "outputs": [],
   "source": [
    "# python manage.py changepassword username"
   ]
  }
 ],
 "metadata": {
  "kernelspec": {
   "display_name": "Pythonaids",
   "language": "python",
   "name": "python3"
  },
  "language_info": {
   "codemirror_mode": {
    "name": "ipython",
    "version": 3
   },
   "file_extension": ".py",
   "mimetype": "text/x-python",
   "name": "python",
   "nbconvert_exporter": "python",
   "pygments_lexer": "ipython3",
   "version": "3.13.2"
  }
 },
 "nbformat": 4,
 "nbformat_minor": 2
}

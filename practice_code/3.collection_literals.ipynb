{
 "cells": [
  {
   "cell_type": "markdown",
   "metadata": {},
   "source": [
    "# Python Collection Literals\n",
    " \n",
    " 1. List\n",
    " 2. Set\n",
    " 3. Tuple \n",
    " 4. Dictionary"
   ]
  },
  {
   "cell_type": "markdown",
   "metadata": {},
   "source": [
    "# 1. List\n",
    "- A list is an ordered, changeable (mutable), and allows duplicate values.\n",
    "    - Example: my_list = [1, 2, 3, 3, 4]"
   ]
  },
  {
   "cell_type": "code",
   "execution_count": 3,
   "metadata": {},
   "outputs": [
    {
     "name": "stdout",
     "output_type": "stream",
     "text": [
      "[2, 4, 6, 8, 10, 2]\n",
      "<class 'list'>\n"
     ]
    }
   ],
   "source": [
    "envens = [2,4,6,8,10,2]\n",
    "print(envens)\n",
    "print(type(envens))"
   ]
  },
  {
   "cell_type": "markdown",
   "metadata": {},
   "source": [
    "# 2. Set\n",
    "- A set is an unordered collection of unique elements (no duplicates).\n",
    "    - Example: my_set = {1, 2, 3, 4, 4} → {1, 2, 3, 4}"
   ]
  },
  {
   "cell_type": "code",
   "execution_count": 6,
   "metadata": {},
   "outputs": [
    {
     "name": "stdout",
     "output_type": "stream",
     "text": [
      "{1, 3, 5, 7}\n",
      "<class 'set'>\n"
     ]
    }
   ],
   "source": [
    "odds = {1,3,5,7,3}\n",
    "print(odds)\n",
    "print(type(odds))"
   ]
  },
  {
   "cell_type": "markdown",
   "metadata": {},
   "source": [
    "# 3. Tuple\n",
    "- A tuple is similar to a list but immutable (cannot be changed after creation).\n",
    "    - Example: my_tuple = (1, 2, 3, 4)"
   ]
  },
  {
   "cell_type": "code",
   "execution_count": null,
   "metadata": {},
   "outputs": [
    {
     "name": "stdout",
     "output_type": "stream",
     "text": [
      "(1, 2, 3, 4, 6, 1, 2)\n",
      "<class 'tuple'>\n"
     ]
    }
   ],
   "source": [
    "tup = (1,2,3,4,6,1,2)\n",
    "print(tup)\n",
    "print(type(tup))\n",
    "\n"
   ]
  },
  {
   "cell_type": "markdown",
   "metadata": {},
   "source": [
    "# 4. Dictionary\n",
    "- A dictionary stores key-value pairs, where keys are unique.\n",
    "    - Example: my_dict = {\"name\": \"Ali\", \"age\": 24}"
   ]
  },
  {
   "cell_type": "code",
   "execution_count": 9,
   "metadata": {},
   "outputs": [
    {
     "name": "stdout",
     "output_type": "stream",
     "text": [
      "{'name': 'AAbid Khokhar', 'age': 25, 'city': 'Karachi', 'isEnroll': True}\n",
      "<class 'dict'>\n"
     ]
    }
   ],
   "source": [
    "student = {\n",
    "    \"name\":\"AAbid Khokhar\",\n",
    "    \"age\":25,\n",
    "    \"city\":\"Karachi\",\n",
    "    \"isEnroll\":True\n",
    "}\n",
    "\n",
    "print(student)\n",
    "print(type(student))"
   ]
  }
 ],
 "metadata": {
  "kernelspec": {
   "display_name": "Pythonaids",
   "language": "python",
   "name": "python3"
  },
  "language_info": {
   "codemirror_mode": {
    "name": "ipython",
    "version": 3
   },
   "file_extension": ".py",
   "mimetype": "text/x-python",
   "name": "python",
   "nbconvert_exporter": "python",
   "pygments_lexer": "ipython3",
   "version": "3.13.2"
  }
 },
 "nbformat": 4,
 "nbformat_minor": 2
}

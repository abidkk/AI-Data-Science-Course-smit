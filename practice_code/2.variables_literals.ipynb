{
 "cells": [
  {
   "cell_type": "markdown",
   "metadata": {},
   "source": [
    "# Variables & Literals\n",
    "- In programming, a variable is a container (storage area) to hold data. \n",
    "- Literals are representations of fixed values in a program. They can be numbers, characters, or strings, etc. For example, 'Hello, World!', 12, 23.0, 'C', etc."
   ]
  },
  {
   "cell_type": "markdown",
   "metadata": {},
   "source": [
    "    - In the Below Example\n",
    " \n",
    "- name is Variable\n",
    "- AAbid Khokhar is Literal"
   ]
  },
  {
   "cell_type": "code",
   "execution_count": 2,
   "metadata": {},
   "outputs": [
    {
     "name": "stdout",
     "output_type": "stream",
     "text": [
      "AAbid Khokhar\n"
     ]
    }
   ],
   "source": [
    "name = 'AAbid Khokhar'  \n",
    "print(name)"
   ]
  },
  {
   "cell_type": "code",
   "execution_count": 4,
   "metadata": {},
   "outputs": [
    {
     "name": "stdout",
     "output_type": "stream",
     "text": [
      "1001\n",
      "2002\n"
     ]
    }
   ],
   "source": [
    "roll = 1001\n",
    "print(1001)\n",
    "\n",
    "\n",
    "roll = 2002\n",
    "print(roll)\n",
    "\n"
   ]
  },
  {
   "cell_type": "markdown",
   "metadata": {},
   "source": [
    "# Changing the Value of a Variable in Python"
   ]
  },
  {
   "cell_type": "code",
   "execution_count": 5,
   "metadata": {},
   "outputs": [
    {
     "name": "stdout",
     "output_type": "stream",
     "text": [
      "Javascript Programming\n",
      "Python Programming\n"
     ]
    }
   ],
   "source": [
    "course = \"Javascript Programming\"\n",
    "print(course)\n",
    "\n",
    "# changing\n",
    "course = \"Python Programming\"\n",
    "print(course)"
   ]
  },
  {
   "cell_type": "markdown",
   "metadata": {},
   "source": [
    "# Assigning multiple values to multiple variables"
   ]
  },
  {
   "cell_type": "code",
   "execution_count": 7,
   "metadata": {},
   "outputs": [
    {
     "name": "stdout",
     "output_type": "stream",
     "text": [
      "Java\n",
      "Javascript\n",
      "Python\n"
     ]
    }
   ],
   "source": [
    "course1 , course2, course3 = \"Javascript\", \"Python\", \"Java\"\n",
    "print(course3)\n",
    "print(course1)\n",
    "print(course2)"
   ]
  },
  {
   "cell_type": "markdown",
   "metadata": {},
   "source": [
    "# Python Numeric Literals\n",
    "\n",
    "1. Integer Literals\n",
    "\n",
    "Integer literals are numbers without decimal parts. It also consists of negative numbers. For example, 5, -11, 0, 12, etc.\n",
    "\n"
   ]
  },
  {
   "cell_type": "code",
   "execution_count": 9,
   "metadata": {},
   "outputs": [
    {
     "name": "stdout",
     "output_type": "stream",
     "text": [
      "10\n",
      "-10\n",
      "<class 'int'>\n",
      "<class 'int'>\n"
     ]
    }
   ],
   "source": [
    "\n",
    "a = 10\n",
    "b = -10\n",
    "\n",
    "print(a)\n",
    "print(b)\n",
    "\n",
    "print(type(a))\n",
    "print(type(b))"
   ]
  },
  {
   "cell_type": "markdown",
   "metadata": {},
   "source": [
    "2. Floating-Point Literals\n",
    "\n",
    "Floating-point literals are numbers that contain decimal parts.\n",
    "\n",
    "Just like integers, floating-point numbers can also be both positive and negative. For example, 2.5, 6.76, 0.0, -9.45, etc."
   ]
  },
  {
   "cell_type": "code",
   "execution_count": 10,
   "metadata": {},
   "outputs": [
    {
     "name": "stdout",
     "output_type": "stream",
     "text": [
      "<class 'float'>\n",
      "<class 'float'>\n"
     ]
    }
   ],
   "source": [
    "x = 12.9\n",
    "y = -10.31\n",
    "\n",
    "print(type(x))\n",
    "print(type(y))"
   ]
  },
  {
   "cell_type": "markdown",
   "metadata": {},
   "source": [
    "3. Complex Literals\n",
    "\n",
    "Complex literals are numbers that represent complex numbers.\n",
    "\n",
    "Here, numerals are in the form a + bj, where a is real and b is imaginary. For example, 6+9j, 2+3j."
   ]
  },
  {
   "cell_type": "code",
   "execution_count": 12,
   "metadata": {},
   "outputs": [
    {
     "name": "stdout",
     "output_type": "stream",
     "text": [
      "2j\n",
      "(3+4j)\n",
      "<class 'complex'>\n",
      "<class 'complex'>\n"
     ]
    }
   ],
   "source": [
    "x = 2j\n",
    "y = 3+4j\n",
    "\n",
    "print(x)\n",
    "print(y)\n",
    "\n",
    "print(type(x))\n",
    "print(type(y))"
   ]
  },
  {
   "cell_type": "markdown",
   "metadata": {},
   "source": [
    "# Python String Literals\n",
    "\n",
    "In Python, texts wrapped inside quotation marks are called string literals..\n",
    "\n",
    "\"This is a string.\"\n",
    "\n",
    "We can also use single quotes to create strings.\n",
    "\n",
    "'This is also a string.'"
   ]
  },
  {
   "cell_type": "code",
   "execution_count": 13,
   "metadata": {},
   "outputs": [
    {
     "name": "stdout",
     "output_type": "stream",
     "text": [
      "I am a string\n",
      "I am a string too\n",
      "I am also a string \n",
      "but Miltiline\n",
      "<class 'str'>\n",
      "<class 'str'>\n",
      "<class 'str'>\n"
     ]
    }
   ],
   "source": [
    "st1 = \"I am a string\"\n",
    "st2 = 'I am a string too'\n",
    "st3 = \"\"\"I am also a string \n",
    "but Miltiline\"\"\"\n",
    "\n",
    "\n",
    "print(st1)\n",
    "print(st2)\n",
    "print(st3)\n",
    "\n",
    "print(type(st1))\n",
    "print(type(st2))\n",
    "print(type(st3))\n"
   ]
  },
  {
   "cell_type": "markdown",
   "metadata": {},
   "source": [
    "# Python Boolean Literals\n",
    "\n",
    "There are two boolean literals: True and False.\n",
    "\n",
    "For example, "
   ]
  },
  {
   "cell_type": "code",
   "execution_count": 14,
   "metadata": {},
   "outputs": [
    {
     "name": "stdout",
     "output_type": "stream",
     "text": [
      "True\n",
      "False\n",
      "<class 'bool'>\n",
      "<class 'bool'>\n"
     ]
    }
   ],
   "source": [
    "isAvailable = True\n",
    "isCompleted = False\n",
    "\n",
    "print(isAvailable)\n",
    "print(isCompleted)\n",
    "\n",
    "print(type(isAvailable))\n",
    "print(type(isCompleted))"
   ]
  },
  {
   "cell_type": "markdown",
   "metadata": {},
   "source": []
  },
  {
   "cell_type": "code",
   "execution_count": null,
   "metadata": {},
   "outputs": [],
   "source": []
  }
 ],
 "metadata": {
  "kernelspec": {
   "display_name": "Pythonaids",
   "language": "python",
   "name": "python3"
  },
  "language_info": {
   "codemirror_mode": {
    "name": "ipython",
    "version": 3
   },
   "file_extension": ".py",
   "mimetype": "text/x-python",
   "name": "python",
   "nbconvert_exporter": "python",
   "pygments_lexer": "ipython3",
   "version": "3.13.2"
  }
 },
 "nbformat": 4,
 "nbformat_minor": 2
}

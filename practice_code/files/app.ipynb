{
 "cells": [
  {
   "cell_type": "markdown",
   "metadata": {},
   "source": [
    "# Working with Files"
   ]
  },
  {
   "cell_type": "code",
   "execution_count": 11,
   "metadata": {},
   "outputs": [],
   "source": [
    "from pathlib import Path"
   ]
  },
  {
   "cell_type": "markdown",
   "metadata": {},
   "source": []
  },
  {
   "cell_type": "markdown",
   "metadata": {},
   "source": [
    "    Read File   "
   ]
  },
  {
   "cell_type": "code",
   "execution_count": 12,
   "metadata": {},
   "outputs": [
    {
     "name": "stdout",
     "output_type": "stream",
     "text": [
      "1000 1111\n",
      "2000 2222\n",
      "3000 3333\n",
      "4000 4444\n",
      "5000 5555\n",
      "\n"
     ]
    }
   ],
   "source": [
    "\n",
    "path = Path('code.txt')\n",
    "contents = path.read_text()\n",
    "print(contents)"
   ]
  },
  {
   "cell_type": "code",
   "execution_count": 13,
   "metadata": {},
   "outputs": [
    {
     "name": "stdout",
     "output_type": "stream",
     "text": [
      "1000 1111\n",
      "2000 2222\n",
      "3000 3333\n",
      "4000 4444\n",
      "5000 5555\n",
      "\n"
     ]
    }
   ],
   "source": [
    "contents = contents.lstrip()\n",
    "print(contents)"
   ]
  },
  {
   "cell_type": "code",
   "execution_count": 14,
   "metadata": {},
   "outputs": [
    {
     "name": "stdout",
     "output_type": "stream",
     "text": [
      "1000 1111\n",
      "2000 2222\n",
      "3000 3333\n",
      "4000 4444\n",
      "5000 5555\n"
     ]
    }
   ],
   "source": [
    "lines = contents.splitlines()\n",
    "for line in lines:\n",
    " print(line)"
   ]
  },
  {
   "cell_type": "code",
   "execution_count": null,
   "metadata": {},
   "outputs": [
    {
     "data": {
      "text/plain": [
       "11"
      ]
     },
     "execution_count": 15,
     "metadata": {},
     "output_type": "execute_result"
    }
   ],
   "source": []
  },
  {
   "cell_type": "code",
   "execution_count": 16,
   "metadata": {},
   "outputs": [
    {
     "name": "stdout",
     "output_type": "stream",
     "text": [
      "1000 1111\n",
      "2000 2222\n",
      "3000 3333\n",
      "4000 4444\n",
      "5000 5555\n",
      "\n"
     ]
    }
   ],
   "source": [
    "print(contents)"
   ]
  },
  {
   "cell_type": "code",
   "execution_count": 24,
   "metadata": {},
   "outputs": [
    {
     "name": "stdout",
     "output_type": "stream",
     "text": [
      "<_io.TextIOWrapper name='code.txt' mode='r' encoding='cp1252'>\n"
     ]
    }
   ],
   "source": [
    "import os\n",
    "\n",
    "# Create a new text file and write some data\n",
    "with open(\"code.txt\", \"a\") as file:\n",
    "    \n",
    "    file = open('code.txt', 'r')\n",
    "    print(file)"
   ]
  },
  {
   "cell_type": "code",
   "execution_count": 27,
   "metadata": {},
   "outputs": [
    {
     "name": "stdout",
     "output_type": "stream",
     "text": [
      "\n",
      "This is my updated content.\n",
      "\n",
      "This is my updated content.\n",
      "\n",
      "This is my updated content again again.\n",
      "\n"
     ]
    }
   ],
   "source": [
    "import os\n",
    "# Create a new text file and write some data\n",
    "with open(\"example.txt\", \"a\") as file:\n",
    "    # Write something to the end of the file\n",
    "    file.write(\"\\nThis is my updated content again again.\\n\")\n",
    "\n",
    "# Read from another file\n",
    "file = open(\"example.txt\", \"r\")\n",
    "contents = file.read()\n",
    "print(contents)"
   ]
  },
  {
   "cell_type": "code",
   "execution_count": null,
   "metadata": {},
   "outputs": [],
   "source": []
  }
 ],
 "metadata": {
  "kernelspec": {
   "display_name": "Pythonaids",
   "language": "python",
   "name": "python3"
  },
  "language_info": {
   "codemirror_mode": {
    "name": "ipython",
    "version": 3
   },
   "file_extension": ".py",
   "mimetype": "text/x-python",
   "name": "python",
   "nbconvert_exporter": "python",
   "pygments_lexer": "ipython3",
   "version": "3.13.2"
  }
 },
 "nbformat": 4,
 "nbformat_minor": 2
}

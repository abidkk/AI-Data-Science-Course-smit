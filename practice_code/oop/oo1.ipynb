{
 "cells": [
  {
   "cell_type": "markdown",
   "metadata": {},
   "source": [
    "# Object Oriented Programming"
   ]
  },
  {
   "cell_type": "markdown",
   "metadata": {},
   "source": [
    "    - Class : Car\n",
    "    - Attributes : brand, year\n",
    "    - Constructor, dunder function : __init__\n",
    "    - Slef keyword\n",
    "    - Object : my_car , your_car"
   ]
  },
  {
   "cell_type": "code",
   "execution_count": 19,
   "metadata": {},
   "outputs": [
    {
     "name": "stdout",
     "output_type": "stream",
     "text": [
      "BMW 2027\n",
      "Honda 2026\n"
     ]
    }
   ],
   "source": [
    "class Car():\n",
    "    def __init__(self,brand, year):\n",
    "        self.brand = brand\n",
    "        self.year = year\n",
    "        \n",
    "\n",
    "my_car = Car(\"BMW\", 2027) # object 1\n",
    "print(my_car.brand, my_car.year)\n",
    "\n",
    "your_car = Car('Honda', 2026)\n",
    "print(your_car.brand, your_car.year)"
   ]
  },
  {
   "cell_type": "markdown",
   "metadata": {},
   "source": [
    "    - Update : add a method to display carInfo "
   ]
  },
  {
   "cell_type": "code",
   "execution_count": 23,
   "metadata": {},
   "outputs": [
    {
     "name": "stdout",
     "output_type": "stream",
     "text": [
      "Brand: BMW & Year: 2027\n",
      "Brand: Honda & Year: 2026\n"
     ]
    }
   ],
   "source": [
    "class Car():\n",
    "    def __init__(self,brand, year):\n",
    "        self.brand = brand\n",
    "        self.year = year\n",
    "        \n",
    "    # Method\n",
    "    def car_info(self):\n",
    "        return f\"Brand: {self.brand} & Year: {self.year}\"\n",
    "        \n",
    "\n",
    "my_car = Car(\"BMW\", 2027) # object 1\n",
    "print(my_car.car_info())\n",
    "\n",
    "your_car = Car('Honda', 2026)\n",
    "print(your_car.car_info()) "
   ]
  },
  {
   "cell_type": "markdown",
   "metadata": {},
   "source": [
    "# Inheritance\n",
    "\n",
    "- adding child class : ElectricCar"
   ]
  },
  {
   "cell_type": "code",
   "execution_count": 28,
   "metadata": {},
   "outputs": [
    {
     "name": "stdout",
     "output_type": "stream",
     "text": [
      "200kwn Tesla 2024\n",
      "Brand: Tesla & Year: 2024\n"
     ]
    }
   ],
   "source": [
    "class Car():\n",
    "    def __init__(self,brand, year):\n",
    "        self.brand = brand\n",
    "        self.year = year\n",
    "        \n",
    "    # Method\n",
    "    def car_info(self):\n",
    "        return f\"Brand: {self.brand} & Year: {self.year}\"\n",
    "    \n",
    "    \n",
    "# child class \n",
    "class ElectricCar(Car):\n",
    "    def __init__(self, battery_size, brand, year):\n",
    "        super().__init__(brand, year)\n",
    "        self.battery_size = battery_size\n",
    "        \n",
    "# object from ElectricCar \n",
    "my_ecar = ElectricCar(\"200kwn\", 'Tesla', 2024)\n",
    "print(my_ecar.battery_size, my_ecar.brand, my_ecar.year)\n",
    "print(my_ecar.car_info())\n",
    "\n",
    "# my_car = Car(\"BMW\", 2027) # object 1\n",
    "# print(my_car.car_info())\n",
    "\n",
    "# your_car = Car('Honda', 2026)\n",
    "# print(your_car.car_info()) "
   ]
  },
  {
   "cell_type": "code",
   "execution_count": 37,
   "metadata": {},
   "outputs": [
    {
     "name": "stdout",
     "output_type": "stream",
     "text": [
      "Brand: Tesla & Year: 2024 Battery Size 220 kwn\n"
     ]
    }
   ],
   "source": [
    "class Car():\n",
    "    def __init__(self, brand, year):\n",
    "        self.brand = brand\n",
    "        self.year = year\n",
    "        \n",
    "    # Method to include model and battery_size in car_info\n",
    "    def car_info(self):\n",
    "        return f\"Brand: {self.brand} & Year: {self.year} Battery Size {self.battery_size}\"\n",
    "\n",
    "# child class \n",
    "class ElectricCar(Car):\n",
    "    def __init__(self, battery_size, brand, year):\n",
    "        super().__init__(brand, year)\n",
    "        self.battery_size = battery_size\n",
    "        \n",
    "    \n",
    "# object from ElectricCar \n",
    "my_ecar = ElectricCar(\"220 kwn\", 'Tesla', 2024)\n",
    "\n",
    "print(my_ecar.car_info())"
   ]
  },
  {
   "cell_type": "markdown",
   "metadata": {},
   "source": [
    "# Encapsulation\n",
    "\n",
    "    - making school_name private\n",
    "    - and use getter function to get school_name"
   ]
  },
  {
   "cell_type": "code",
   "execution_count": 66,
   "metadata": {},
   "outputs": [
    {
     "name": "stdout",
     "output_type": "stream",
     "text": [
      "Karachi\n",
      "The Educators\n"
     ]
    }
   ],
   "source": [
    "class School():\n",
    "    def __init__(self, school_name, city):\n",
    "        self.__school_name = school_name\n",
    "        self.city = city\n",
    "    \n",
    "    # getter \n",
    "    def get_school(self):\n",
    "       return self.__school_name\n",
    "        \n",
    "s1 = School(\"The Educators\", \"Karachi\")\n",
    "print(s1.city)\n",
    "# print(s1.school_name) # error\n",
    "# print(s1.__school_name) # error\n",
    "print(s1.get_school())\n"
   ]
  },
  {
   "cell_type": "markdown",
   "metadata": {},
   "source": [
    "# Polymorphism\n",
    "\n",
    "    - calling same method in both classes with different output"
   ]
  },
  {
   "cell_type": "code",
   "execution_count": 71,
   "metadata": {},
   "outputs": [
    {
     "name": "stdout",
     "output_type": "stream",
     "text": [
      "The Book has 400 pages\n",
      "The Book has 500 pages\n"
     ]
    }
   ],
   "source": [
    "class Book1():\n",
    "\n",
    "    def book_pages(self):\n",
    "        return \"The Book has 400 pages\"\n",
    "    \n",
    "class Book2():  \n",
    "    def book_pages(slef):\n",
    "        return \"The Book has 500 pages\"\n",
    "    \n",
    "\n",
    "b1 = Book1()\n",
    "print(b1.book_pages())\n",
    "\n",
    "    \n",
    "b2 = Book2()\n",
    "print(b2.book_pages())"
   ]
  },
  {
   "cell_type": "code",
   "execution_count": null,
   "metadata": {},
   "outputs": [],
   "source": []
  }
 ],
 "metadata": {
  "kernelspec": {
   "display_name": "Pythonaids",
   "language": "python",
   "name": "python3"
  },
  "language_info": {
   "codemirror_mode": {
    "name": "ipython",
    "version": 3
   },
   "file_extension": ".py",
   "mimetype": "text/x-python",
   "name": "python",
   "nbconvert_exporter": "python",
   "pygments_lexer": "ipython3",
   "version": "3.13.2"
  }
 },
 "nbformat": 4,
 "nbformat_minor": 2
}

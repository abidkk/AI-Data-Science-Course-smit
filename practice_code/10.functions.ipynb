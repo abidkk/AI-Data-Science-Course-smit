{
 "cells": [
  {
   "cell_type": "markdown",
   "metadata": {},
   "source": [
    "# Functions in Python"
   ]
  },
  {
   "cell_type": "markdown",
   "metadata": {},
   "source": [
    "    Simple : non parameter Function"
   ]
  },
  {
   "cell_type": "code",
   "execution_count": 24,
   "metadata": {},
   "outputs": [
    {
     "name": "stdout",
     "output_type": "stream",
     "text": [
      "I am running\n",
      "I am running\n",
      "I am running\n",
      "<class 'NoneType'>\n"
     ]
    }
   ],
   "source": [
    "def run():\n",
    "    print('I am running')\n",
    "    \n",
    "run()    \n",
    "run()\n",
    "print(type(run()))"
   ]
  },
  {
   "cell_type": "markdown",
   "metadata": {},
   "source": [
    "    With return keyword : Return string type"
   ]
  },
  {
   "cell_type": "code",
   "execution_count": 25,
   "metadata": {},
   "outputs": [
    {
     "name": "stdout",
     "output_type": "stream",
     "text": [
      "<class 'str'>\n"
     ]
    }
   ],
   "source": [
    "def run():\n",
    "    return \"I am running again\"\n",
    "run()    \n",
    "run()\n",
    "print(type(run()))"
   ]
  },
  {
   "cell_type": "code",
   "execution_count": 26,
   "metadata": {},
   "outputs": [
    {
     "name": "stdout",
     "output_type": "stream",
     "text": [
      "I am running again\n",
      "I am running again\n",
      "<class 'str'>\n"
     ]
    }
   ],
   "source": [
    "def run():\n",
    "    return \"I am running again\"\n",
    "\n",
    "run() # not show\n",
    "print(run())\n",
    "print(run())\n",
    "run() # not show\n",
    "print(type(run()))"
   ]
  },
  {
   "cell_type": "markdown",
   "metadata": {},
   "source": [
    "    Function with single parameter"
   ]
  },
  {
   "cell_type": "code",
   "execution_count": 27,
   "metadata": {},
   "outputs": [
    {
     "name": "stdout",
     "output_type": "stream",
     "text": [
      "I am the best\n",
      "You can do it\n",
      "Love Yourself\n"
     ]
    }
   ],
   "source": [
    "def say_Something(say):\n",
    "    return(say)\n",
    "\n",
    "print(say_Something('I am the best'))\n",
    "print(say_Something('You can do it'))\n",
    "print(say_Something('Love Yourself'))"
   ]
  },
  {
   "cell_type": "markdown",
   "metadata": {},
   "source": [
    "    Function with Multiple Parameter"
   ]
  },
  {
   "cell_type": "code",
   "execution_count": 23,
   "metadata": {},
   "outputs": [
    {
     "name": "stdout",
     "output_type": "stream",
     "text": [
      "I am AAbid, and I am 24 years old\n",
      "I am Areesha, and I am 24 years old\n"
     ]
    }
   ],
   "source": [
    "def info(name,age):\n",
    "    return(f\"I am {name}, and I am {age} years old\")\n",
    "\n",
    "print(info('AAbid', 24))\n",
    "print(info('Areesha', 24))"
   ]
  },
  {
   "cell_type": "markdown",
   "metadata": {},
   "source": [
    "    Arithmetic Operator using user inputs and functions parameters"
   ]
  },
  {
   "cell_type": "code",
   "execution_count": 31,
   "metadata": {},
   "outputs": [
    {
     "name": "stdout",
     "output_type": "stream",
     "text": [
      "sum of 6 and 2 is 8\n",
      "Subtration of 6 and 2 is 4\n",
      "Product of 6 and 2 is 12\n",
      "Division of 6 and 2 is 3.0\n",
      "Reminder of 6 and 2 is 0\n"
     ]
    }
   ],
   "source": [
    "num1 = int(input('Please enter first value'))\n",
    "num2 = int(input('Please enter second value'))\n",
    "\n",
    "def operation(num1, num2):\n",
    "    print(f\"sum of {num1} and {num2} is {num1+num2}\")\n",
    "    print(f\"Subtration of {num1} and {num2} is {num1-num2}\")\n",
    "    print(f\"Product of {num1} and {num2} is {num1*num2}\")\n",
    "    print(f\"Division of {num1} and {num2} is {num1/num2}\")\n",
    "    print(f\"Reminder of {num1} and {num2} is {num1%num2}\")\n",
    "    \n",
    "    \n",
    "operation(num1,num2)"
   ]
  },
  {
   "cell_type": "markdown",
   "metadata": {},
   "source": [
    "         Function with an optional parameter or argument\n",
    "            |- Note: the optional parameter will be placed at the end\n",
    "        "
   ]
  },
  {
   "cell_type": "code",
   "execution_count": 43,
   "metadata": {},
   "outputs": [
    {
     "name": "stdout",
     "output_type": "stream",
     "text": [
      "AAbid Ali Khokhar\n",
      "AAbid Khokhar Ali\n",
      "AAbid  Khokhar\n"
     ]
    }
   ],
   "source": [
    "def info(first_name, last_name , middle_name=''):\n",
    "    print(first_name,middle_name,last_name)\n",
    "\n",
    "info('AAbid', 'Khokhar', 'Ali') # \n",
    "info('AAbid', 'Ali', 'Khokhar')\n",
    "info('AAbid', 'Khokhar')"
   ]
  },
  {
   "cell_type": "markdown",
   "metadata": {},
   "source": [
    "    Passing list to a function"
   ]
  },
  {
   "cell_type": "code",
   "execution_count": 45,
   "metadata": {},
   "outputs": [
    {
     "name": "stdout",
     "output_type": "stream",
     "text": [
      "hello, Aabid\n",
      "hello, Adam\n",
      "hello, Neha\n",
      "hello, Sara\n",
      "hello, Zoha\n"
     ]
    }
   ],
   "source": [
    "def users(names):\n",
    "    for name in names:\n",
    "        print(f\"hello, {name.title()}\")\n",
    "\n",
    "user_list = ['aabid', 'AdAM', 'NehA', 'Sara', 'ZOHA']\n",
    "# calling function\n",
    "users(user_list)"
   ]
  },
  {
   "cell_type": "code",
   "execution_count": null,
   "metadata": {},
   "outputs": [],
   "source": []
  }
 ],
 "metadata": {
  "kernelspec": {
   "display_name": "Pythonaids",
   "language": "python",
   "name": "python3"
  },
  "language_info": {
   "codemirror_mode": {
    "name": "ipython",
    "version": 3
   },
   "file_extension": ".py",
   "mimetype": "text/x-python",
   "name": "python",
   "nbconvert_exporter": "python",
   "pygments_lexer": "ipython3",
   "version": "3.13.2"
  }
 },
 "nbformat": 4,
 "nbformat_minor": 2
}

{
 "cells": [
  {
   "cell_type": "markdown",
   "metadata": {},
   "source": [
    "# Conditions (If, else-if, elif)"
   ]
  },
  {
   "cell_type": "code",
   "execution_count": 15,
   "metadata": {},
   "outputs": [],
   "source": [
    "a = 10\n",
    "b = 20\n",
    "    "
   ]
  },
  {
   "cell_type": "markdown",
   "metadata": {},
   "source": [
    "# IF"
   ]
  },
  {
   "cell_type": "code",
   "execution_count": 16,
   "metadata": {},
   "outputs": [
    {
     "name": "stdout",
     "output_type": "stream",
     "text": [
      "Yes, it is\n"
     ]
    }
   ],
   "source": [
    "# False case\n",
    "if (a == 20):\n",
    "    print('Correct')\n",
    "    \n",
    "# True Case \n",
    "if (a == 10):\n",
    "    print('Yes, it is')\n",
    "    "
   ]
  },
  {
   "cell_type": "markdown",
   "metadata": {},
   "source": [
    "# Else"
   ]
  },
  {
   "cell_type": "code",
   "execution_count": 17,
   "metadata": {},
   "outputs": [
    {
     "name": "stdout",
     "output_type": "stream",
     "text": [
      "Correct\n",
      "---------\n",
      "Íncorrect\n"
     ]
    }
   ],
   "source": [
    "# IF CASE\n",
    "if (b == 20):\n",
    "    print('Correct')\n",
    "else:\n",
    "    print('Íncorrect')\n",
    "    \n",
    "    \n",
    "print('---------') \n",
    "\n",
    " # Else Case\n",
    "if (b == 30):\n",
    "    print('Correct')\n",
    "else:\n",
    "    print('Íncorrect')"
   ]
  },
  {
   "cell_type": "markdown",
   "metadata": {},
   "source": [
    "# ELIF"
   ]
  },
  {
   "cell_type": "code",
   "execution_count": 21,
   "metadata": {},
   "outputs": [
    {
     "name": "stdout",
     "output_type": "stream",
     "text": [
      "Yes, a is greater than 5\n"
     ]
    }
   ],
   "source": [
    "if(a > 20):\n",
    "    print('yes a is greater than 20')\n",
    "elif (a > 5):\n",
    "    print('Yes, a is greater than 5')\n",
    "else:\n",
    "    print('a is 10')\n"
   ]
  },
  {
   "cell_type": "markdown",
   "metadata": {},
   "source": [
    "# Loop & IF else\n"
   ]
  },
  {
   "cell_type": "code",
   "execution_count": 29,
   "metadata": {},
   "outputs": [
    {
     "name": "stdout",
     "output_type": "stream",
     "text": [
      "Apple\n",
      "Banana\n",
      "Orange\n",
      "Peach\n",
      "Sorry Mango is out of stock\n",
      "Guava\n",
      "Grapes\n",
      "Watermelon\n"
     ]
    }
   ],
   "source": [
    "fruits = ['Apple', 'Banana', 'Orange', 'Peach', 'Mango', 'Guava', 'Grapes', 'Watermelon']\n",
    "\n",
    "for f in fruits:\n",
    "    if(f == 'Mango'):\n",
    "        print(f'Sorry {f} is out of stock')\n",
    "    else:\n",
    "        print(f)\n",
    "        "
   ]
  },
  {
   "cell_type": "code",
   "execution_count": null,
   "metadata": {},
   "outputs": [],
   "source": []
  }
 ],
 "metadata": {
  "kernelspec": {
   "display_name": "Pythonaids",
   "language": "python",
   "name": "python3"
  },
  "language_info": {
   "codemirror_mode": {
    "name": "ipython",
    "version": 3
   },
   "file_extension": ".py",
   "mimetype": "text/x-python",
   "name": "python",
   "nbconvert_exporter": "python",
   "pygments_lexer": "ipython3",
   "version": "3.13.2"
  }
 },
 "nbformat": 4,
 "nbformat_minor": 2
}

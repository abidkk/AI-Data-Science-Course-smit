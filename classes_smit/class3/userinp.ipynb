{
 "cells": [
  {
   "cell_type": "markdown",
   "metadata": {},
   "source": [
    "# User Input"
   ]
  },
  {
   "cell_type": "code",
   "execution_count": 2,
   "metadata": {},
   "outputs": [
    {
     "name": "stdout",
     "output_type": "stream",
     "text": [
      "Welcome AAbid Khokhar\n"
     ]
    }
   ],
   "source": [
    "username = input(\"Please enter your name\")\n",
    "print(\"Welcome\", username)"
   ]
  },
  {
   "cell_type": "markdown",
   "metadata": {},
   "source": [
    "# parsing input values to number\n"
   ]
  },
  {
   "cell_type": "code",
   "execution_count": null,
   "metadata": {},
   "outputs": [
    {
     "name": "stdout",
     "output_type": "stream",
     "text": [
      "addition 49\n",
      "subtraction 41\n",
      "miltiplication 180\n",
      "division 11.25\n",
      "modulus 1\n"
     ]
    }
   ],
   "source": [
    "x = int(input('please enter first value: '))\n",
    "y = int(input('please enter second value: '))\n",
    "\n",
    "\n",
    "print('addition', x + y)\n",
    "print('subtraction', x - y)\n",
    "print('miltiplication', x * y)\n",
    "print('division', x / y)\n",
    "print('modulus', x % y)"
   ]
  }
 ],
 "metadata": {
  "kernelspec": {
   "display_name": "Pythonaids",
   "language": "python",
   "name": "python3"
  },
  "language_info": {
   "codemirror_mode": {
    "name": "ipython",
    "version": 3
   },
   "file_extension": ".py",
   "mimetype": "text/x-python",
   "name": "python",
   "nbconvert_exporter": "python",
   "pygments_lexer": "ipython3",
   "version": "3.13.2"
  }
 },
 "nbformat": 4,
 "nbformat_minor": 2
}

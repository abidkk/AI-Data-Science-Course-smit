{
 "cells": [
  {
   "cell_type": "markdown",
   "metadata": {},
   "source": [
    "# Arithematic Operators\n"
   ]
  },
  {
   "cell_type": "code",
   "execution_count": 14,
   "metadata": {},
   "outputs": [
    {
     "name": "stdout",
     "output_type": "stream",
     "text": [
      "addition 25\n",
      "subtraction 15\n",
      "multiplication 100\n",
      "divison 4.0\n",
      "remder| modulus 0\n",
      "exponent 3200000\n",
      "remove point values 4\n"
     ]
    }
   ],
   "source": [
    "a = 20\n",
    "b = 5\n",
    "\n",
    "\n",
    "print('addition', a + b)\n",
    "print('subtraction', a - b)\n",
    "print('multiplication', a * b)\n",
    "print('divison', a / b)\n",
    "print('remder| modulus', a % b)\n",
    "print('exponent', a ** b)\n",
    "print('remove point values', a // b)"
   ]
  },
  {
   "cell_type": "markdown",
   "metadata": {},
   "source": [
    "# BODMAS |\n",
    "# PEMDAS : in python\n",
    "    - Paranthesis\n",
    "    - Exponent\n",
    "    - Multiplication\n",
    "    - Division\n",
    "    - Addition\n",
    "    - Subtraction"
   ]
  },
  {
   "cell_type": "code",
   "execution_count": null,
   "metadata": {},
   "outputs": [],
   "source": []
  }
 ],
 "metadata": {
  "kernelspec": {
   "display_name": "Pythonaids",
   "language": "python",
   "name": "python3"
  },
  "language_info": {
   "codemirror_mode": {
    "name": "ipython",
    "version": 3
   },
   "file_extension": ".py",
   "mimetype": "text/x-python",
   "name": "python",
   "nbconvert_exporter": "python",
   "pygments_lexer": "ipython3",
   "version": "3.13.2"
  }
 },
 "nbformat": 4,
 "nbformat_minor": 2
}

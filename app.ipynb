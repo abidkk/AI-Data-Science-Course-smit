{
 "cells": [
  {
   "cell_type": "code",
   "execution_count": null,
   "metadata": {},
   "outputs": [
    {
     "name": "stdout",
     "output_type": "stream",
     "text": [
      "Requirement already satisfied: ipykernel in e:\\smit_ai_data_science_course\\ai-data-science-course-smit\\pythonaids\\lib\\site-packages (from -r requirements.txt (line 1)) (6.29.5)\n",
      "Requirement already satisfied: numpy in e:\\smit_ai_data_science_course\\ai-data-science-course-smit\\pythonaids\\lib\\site-packages (from -r requirements.txt (line 2)) (2.2.3)\n",
      "Requirement already satisfied: pandas in e:\\smit_ai_data_science_course\\ai-data-science-course-smit\\pythonaids\\lib\\site-packages (from -r requirements.txt (line 3)) (2.2.3)\n",
      "Requirement already satisfied: matplotlib in e:\\smit_ai_data_science_course\\ai-data-science-course-smit\\pythonaids\\lib\\site-packages (from -r requirements.txt (line 4)) (3.10.0)\n",
      "Requirement already satisfied: seaborn in e:\\smit_ai_data_science_course\\ai-data-science-course-smit\\pythonaids\\lib\\site-packages (from -r requirements.txt (line 5)) (0.13.2)\n",
      "Requirement already satisfied: scikit-learn in e:\\smit_ai_data_science_course\\ai-data-science-course-smit\\pythonaids\\lib\\site-packages (from -r requirements.txt (line 6)) (1.6.1)\n",
      "Requirement already satisfied: django in e:\\smit_ai_data_science_course\\ai-data-science-course-smit\\pythonaids\\lib\\site-packages (from -r requirements.txt (line 7)) (5.1.6)\n",
      "Requirement already satisfied: comm>=0.1.1 in e:\\smit_ai_data_science_course\\ai-data-science-course-smit\\pythonaids\\lib\\site-packages (from ipykernel->-r requirements.txt (line 1)) (0.2.2)\n",
      "Requirement already satisfied: debugpy>=1.6.5 in e:\\smit_ai_data_science_course\\ai-data-science-course-smit\\pythonaids\\lib\\site-packages (from ipykernel->-r requirements.txt (line 1)) (1.8.12)\n",
      "Requirement already satisfied: ipython>=7.23.1 in e:\\smit_ai_data_science_course\\ai-data-science-course-smit\\pythonaids\\lib\\site-packages (from ipykernel->-r requirements.txt (line 1)) (8.32.0)\n",
      "Requirement already satisfied: jupyter-client>=6.1.12 in e:\\smit_ai_data_science_course\\ai-data-science-course-smit\\pythonaids\\lib\\site-packages (from ipykernel->-r requirements.txt (line 1)) (8.6.3)\n",
      "Requirement already satisfied: jupyter-core!=5.0.*,>=4.12 in e:\\smit_ai_data_science_course\\ai-data-science-course-smit\\pythonaids\\lib\\site-packages (from ipykernel->-r requirements.txt (line 1)) (5.7.2)\n",
      "Requirement already satisfied: matplotlib-inline>=0.1 in e:\\smit_ai_data_science_course\\ai-data-science-course-smit\\pythonaids\\lib\\site-packages (from ipykernel->-r requirements.txt (line 1)) (0.1.7)\n",
      "Requirement already satisfied: nest-asyncio in e:\\smit_ai_data_science_course\\ai-data-science-course-smit\\pythonaids\\lib\\site-packages (from ipykernel->-r requirements.txt (line 1)) (1.6.0)\n",
      "Requirement already satisfied: packaging in e:\\smit_ai_data_science_course\\ai-data-science-course-smit\\pythonaids\\lib\\site-packages (from ipykernel->-r requirements.txt (line 1)) (24.2)\n",
      "Requirement already satisfied: psutil in e:\\smit_ai_data_science_course\\ai-data-science-course-smit\\pythonaids\\lib\\site-packages (from ipykernel->-r requirements.txt (line 1)) (7.0.0)\n",
      "Requirement already satisfied: pyzmq>=24 in e:\\smit_ai_data_science_course\\ai-data-science-course-smit\\pythonaids\\lib\\site-packages (from ipykernel->-r requirements.txt (line 1)) (26.2.1)\n",
      "Requirement already satisfied: tornado>=6.1 in e:\\smit_ai_data_science_course\\ai-data-science-course-smit\\pythonaids\\lib\\site-packages (from ipykernel->-r requirements.txt (line 1)) (6.4.2)\n",
      "Requirement already satisfied: traitlets>=5.4.0 in e:\\smit_ai_data_science_course\\ai-data-science-course-smit\\pythonaids\\lib\\site-packages (from ipykernel->-r requirements.txt (line 1)) (5.14.3)\n",
      "Requirement already satisfied: python-dateutil>=2.8.2 in e:\\smit_ai_data_science_course\\ai-data-science-course-smit\\pythonaids\\lib\\site-packages (from pandas->-r requirements.txt (line 3)) (2.9.0.post0)\n",
      "Requirement already satisfied: pytz>=2020.1 in e:\\smit_ai_data_science_course\\ai-data-science-course-smit\\pythonaids\\lib\\site-packages (from pandas->-r requirements.txt (line 3)) (2025.1)\n",
      "Requirement already satisfied: tzdata>=2022.7 in e:\\smit_ai_data_science_course\\ai-data-science-course-smit\\pythonaids\\lib\\site-packages (from pandas->-r requirements.txt (line 3)) (2025.1)\n",
      "Requirement already satisfied: contourpy>=1.0.1 in e:\\smit_ai_data_science_course\\ai-data-science-course-smit\\pythonaids\\lib\\site-packages (from matplotlib->-r requirements.txt (line 4)) (1.3.1)\n",
      "Requirement already satisfied: cycler>=0.10 in e:\\smit_ai_data_science_course\\ai-data-science-course-smit\\pythonaids\\lib\\site-packages (from matplotlib->-r requirements.txt (line 4)) (0.12.1)\n",
      "Requirement already satisfied: fonttools>=4.22.0 in e:\\smit_ai_data_science_course\\ai-data-science-course-smit\\pythonaids\\lib\\site-packages (from matplotlib->-r requirements.txt (line 4)) (4.56.0)\n",
      "Requirement already satisfied: kiwisolver>=1.3.1 in e:\\smit_ai_data_science_course\\ai-data-science-course-smit\\pythonaids\\lib\\site-packages (from matplotlib->-r requirements.txt (line 4)) (1.4.8)\n",
      "Requirement already satisfied: pillow>=8 in e:\\smit_ai_data_science_course\\ai-data-science-course-smit\\pythonaids\\lib\\site-packages (from matplotlib->-r requirements.txt (line 4)) (11.1.0)\n",
      "Requirement already satisfied: pyparsing>=2.3.1 in e:\\smit_ai_data_science_course\\ai-data-science-course-smit\\pythonaids\\lib\\site-packages (from matplotlib->-r requirements.txt (line 4)) (3.2.1)\n",
      "Requirement already satisfied: scipy>=1.6.0 in e:\\smit_ai_data_science_course\\ai-data-science-course-smit\\pythonaids\\lib\\site-packages (from scikit-learn->-r requirements.txt (line 6)) (1.15.2)\n",
      "Requirement already satisfied: joblib>=1.2.0 in e:\\smit_ai_data_science_course\\ai-data-science-course-smit\\pythonaids\\lib\\site-packages (from scikit-learn->-r requirements.txt (line 6)) (1.4.2)\n",
      "Requirement already satisfied: threadpoolctl>=3.1.0 in e:\\smit_ai_data_science_course\\ai-data-science-course-smit\\pythonaids\\lib\\site-packages (from scikit-learn->-r requirements.txt (line 6)) (3.5.0)\n",
      "Requirement already satisfied: asgiref<4,>=3.8.1 in e:\\smit_ai_data_science_course\\ai-data-science-course-smit\\pythonaids\\lib\\site-packages (from django->-r requirements.txt (line 7)) (3.8.1)\n",
      "Requirement already satisfied: sqlparse>=0.3.1 in e:\\smit_ai_data_science_course\\ai-data-science-course-smit\\pythonaids\\lib\\site-packages (from django->-r requirements.txt (line 7)) (0.5.3)\n",
      "Requirement already satisfied: colorama in e:\\smit_ai_data_science_course\\ai-data-science-course-smit\\pythonaids\\lib\\site-packages (from ipython>=7.23.1->ipykernel->-r requirements.txt (line 1)) (0.4.6)\n",
      "Requirement already satisfied: decorator in e:\\smit_ai_data_science_course\\ai-data-science-course-smit\\pythonaids\\lib\\site-packages (from ipython>=7.23.1->ipykernel->-r requirements.txt (line 1)) (5.1.1)\n",
      "Requirement already satisfied: jedi>=0.16 in e:\\smit_ai_data_science_course\\ai-data-science-course-smit\\pythonaids\\lib\\site-packages (from ipython>=7.23.1->ipykernel->-r requirements.txt (line 1)) (0.19.2)\n",
      "Requirement already satisfied: prompt_toolkit<3.1.0,>=3.0.41 in e:\\smit_ai_data_science_course\\ai-data-science-course-smit\\pythonaids\\lib\\site-packages (from ipython>=7.23.1->ipykernel->-r requirements.txt (line 1)) (3.0.50)\n",
      "Requirement already satisfied: pygments>=2.4.0 in e:\\smit_ai_data_science_course\\ai-data-science-course-smit\\pythonaids\\lib\\site-packages (from ipython>=7.23.1->ipykernel->-r requirements.txt (line 1)) (2.19.1)\n",
      "Requirement already satisfied: stack_data in e:\\smit_ai_data_science_course\\ai-data-science-course-smit\\pythonaids\\lib\\site-packages (from ipython>=7.23.1->ipykernel->-r requirements.txt (line 1)) (0.6.3)\n",
      "Requirement already satisfied: platformdirs>=2.5 in e:\\smit_ai_data_science_course\\ai-data-science-course-smit\\pythonaids\\lib\\site-packages (from jupyter-core!=5.0.*,>=4.12->ipykernel->-r requirements.txt (line 1)) (4.3.6)\n",
      "Requirement already satisfied: pywin32>=300 in e:\\smit_ai_data_science_course\\ai-data-science-course-smit\\pythonaids\\lib\\site-packages (from jupyter-core!=5.0.*,>=4.12->ipykernel->-r requirements.txt (line 1)) (308)\n",
      "Requirement already satisfied: six>=1.5 in e:\\smit_ai_data_science_course\\ai-data-science-course-smit\\pythonaids\\lib\\site-packages (from python-dateutil>=2.8.2->pandas->-r requirements.txt (line 3)) (1.17.0)\n",
      "Requirement already satisfied: parso<0.9.0,>=0.8.4 in e:\\smit_ai_data_science_course\\ai-data-science-course-smit\\pythonaids\\lib\\site-packages (from jedi>=0.16->ipython>=7.23.1->ipykernel->-r requirements.txt (line 1)) (0.8.4)\n",
      "Requirement already satisfied: wcwidth in e:\\smit_ai_data_science_course\\ai-data-science-course-smit\\pythonaids\\lib\\site-packages (from prompt_toolkit<3.1.0,>=3.0.41->ipython>=7.23.1->ipykernel->-r requirements.txt (line 1)) (0.2.13)\n",
      "Requirement already satisfied: executing>=1.2.0 in e:\\smit_ai_data_science_course\\ai-data-science-course-smit\\pythonaids\\lib\\site-packages (from stack_data->ipython>=7.23.1->ipykernel->-r requirements.txt (line 1)) (2.2.0)\n",
      "Requirement already satisfied: asttokens>=2.1.0 in e:\\smit_ai_data_science_course\\ai-data-science-course-smit\\pythonaids\\lib\\site-packages (from stack_data->ipython>=7.23.1->ipykernel->-r requirements.txt (line 1)) (3.0.0)\n",
      "Requirement already satisfied: pure-eval in e:\\smit_ai_data_science_course\\ai-data-science-course-smit\\pythonaids\\lib\\site-packages (from stack_data->ipython>=7.23.1->ipykernel->-r requirements.txt (line 1)) (0.2.3)\n"
     ]
    }
   ],
   "source": [
    "!pip install -r requirements.txt "
   ]
  },
  {
   "cell_type": "code",
   "execution_count": 3,
   "metadata": {},
   "outputs": [
    {
     "name": "stdout",
     "output_type": "stream",
     "text": [
      "Package           Version\n",
      "----------------- -----------\n",
      "asgiref           3.8.1\n",
      "asttokens         3.0.0\n",
      "colorama          0.4.6\n",
      "comm              0.2.2\n",
      "contourpy         1.3.1\n",
      "cycler            0.12.1\n",
      "debugpy           1.8.12\n",
      "decorator         5.1.1\n",
      "Django            5.1.6\n",
      "executing         2.2.0\n",
      "fonttools         4.56.0\n",
      "ipykernel         6.29.5\n",
      "ipython           8.32.0\n",
      "jedi              0.19.2\n",
      "joblib            1.4.2\n",
      "jupyter_client    8.6.3\n",
      "jupyter_core      5.7.2\n",
      "kiwisolver        1.4.8\n",
      "matplotlib        3.10.0\n",
      "matplotlib-inline 0.1.7\n",
      "nest-asyncio      1.6.0\n",
      "numpy             2.2.3\n",
      "packaging         24.2\n",
      "pandas            2.2.3\n",
      "parso             0.8.4\n",
      "pillow            11.1.0\n",
      "pip               25.0.1\n",
      "platformdirs      4.3.6\n",
      "prompt_toolkit    3.0.50\n",
      "psutil            7.0.0\n",
      "pure_eval         0.2.3\n",
      "Pygments          2.19.1\n",
      "pyparsing         3.2.1\n",
      "python-dateutil   2.9.0.post0\n",
      "pytz              2025.1\n",
      "pywin32           308\n",
      "pyzmq             26.2.1\n",
      "scikit-learn      1.6.1\n",
      "scipy             1.15.2\n",
      "seaborn           0.13.2\n",
      "six               1.17.0\n",
      "sqlparse          0.5.3\n",
      "stack-data        0.6.3\n",
      "threadpoolctl     3.5.0\n",
      "tornado           6.4.2\n",
      "traitlets         5.14.3\n",
      "tzdata            2025.1\n",
      "wcwidth           0.2.13\n"
     ]
    }
   ],
   "source": [
    "!pip list"
   ]
  },
  {
   "cell_type": "markdown",
   "metadata": {},
   "source": [
    "# check django"
   ]
  },
  {
   "cell_type": "code",
   "execution_count": 2,
   "metadata": {},
   "outputs": [
    {
     "name": "stdout",
     "output_type": "stream",
     "text": [
      "5.1.6\n"
     ]
    }
   ],
   "source": [
    "!django-admin --version\n"
   ]
  },
  {
   "cell_type": "markdown",
   "metadata": {},
   "source": [
    "#  Create a Django Project\n",
    "- Run the following command to create a new Django project:\n"
   ]
  },
  {
   "cell_type": "code",
   "execution_count": 7,
   "metadata": {},
   "outputs": [],
   "source": [
    "!django-admin startproject myproject"
   ]
  },
  {
   "cell_type": "code",
   "execution_count": null,
   "metadata": {},
   "outputs": [],
   "source": []
  },
  {
   "cell_type": "markdown",
   "metadata": {},
   "source": [
    "# Run the Django Server\n",
    "- Start the development server with:\n"
   ]
  },
  {
   "cell_type": "code",
   "execution_count": 9,
   "metadata": {},
   "outputs": [
    {
     "name": "stderr",
     "output_type": "stream",
     "text": [
      "python: can't open file 'e:\\\\smit_AI_Data_Science_course\\\\AI-Data-Science-Course-smit\\\\manage.py': [Errno 2] No such file or directory\n"
     ]
    }
   ],
   "source": [
    "!python manage.py runserver"
   ]
  },
  {
   "cell_type": "markdown",
   "metadata": {},
   "source": [
    "# http://127.0.0.1:8000/"
   ]
  },
  {
   "cell_type": "markdown",
   "metadata": {},
   "source": [
    "# Run Migrate "
   ]
  },
  {
   "cell_type": "code",
   "execution_count": 5,
   "metadata": {},
   "outputs": [
    {
     "name": "stderr",
     "output_type": "stream",
     "text": [
      "python: can't open file 'e:\\\\smit_AI_Data_Science_course\\\\AI-Data-Science-Course-smit\\\\manage.py': [Errno 2] No such file or directory\n"
     ]
    }
   ],
   "source": [
    "!python manage.py migrate"
   ]
  },
  {
   "cell_type": "markdown",
   "metadata": {},
   "source": [
    "# Create a Superuser: \n",
    "- Run the following command and follow the prompts:\n"
   ]
  },
  {
   "cell_type": "code",
   "execution_count": 8,
   "metadata": {},
   "outputs": [
    {
     "name": "stderr",
     "output_type": "stream",
     "text": [
      "python: can't open file 'e:\\\\smit_AI_Data_Science_course\\\\AI-Data-Science-Course-smit\\\\manage.py': [Errno 2] No such file or directory\n"
     ]
    }
   ],
   "source": [
    "\n",
    "!python manage.py createsuperuser"
   ]
  },
  {
   "cell_type": "markdown",
   "metadata": {},
   "source": [
    "# Admin Credentials\n",
    "\n",
    "- dev.abidkk@gmail.com\n",
    "- aabidkk\n",
    "- abid1234"
   ]
  }
 ],
 "metadata": {
  "kernelspec": {
   "display_name": "Pythonaids",
   "language": "python",
   "name": "python3"
  },
  "language_info": {
   "codemirror_mode": {
    "name": "ipython",
    "version": 3
   },
   "file_extension": ".py",
   "mimetype": "text/x-python",
   "name": "python",
   "nbconvert_exporter": "python",
   "pygments_lexer": "ipython3",
   "version": "3.13.2"
  }
 },
 "nbformat": 4,
 "nbformat_minor": 2
}

{
 "cells": [
  {
   "cell_type": "markdown",
   "metadata": {},
   "source": [
    "# Dictionary | Object"
   ]
  },
  {
   "cell_type": "code",
   "execution_count": 60,
   "metadata": {},
   "outputs": [
    {
     "name": "stdout",
     "output_type": "stream",
     "text": [
      "{'name': 'aabid khokhar', 'age': 23, 'city': 'Karachi', 'isEnrolled': True}\n",
      "<class 'dict'>\n"
     ]
    }
   ],
   "source": [
    "student = {\n",
    "    'name':'aabid khokhar',\n",
    "    'age':23,\n",
    "    'city':'Karachi',\n",
    "    'isEnrolled':True\n",
    "    \n",
    "}\n",
    "\n",
    "\n",
    "print(student)\n",
    "print(type(student))"
   ]
  },
  {
   "cell_type": "markdown",
   "metadata": {},
   "source": [
    "    Acces dictionary elements"
   ]
  },
  {
   "cell_type": "code",
   "execution_count": 61,
   "metadata": {},
   "outputs": [
    {
     "name": "stdout",
     "output_type": "stream",
     "text": [
      "23\n",
      "Karachi\n"
     ]
    }
   ],
   "source": [
    "print(student['age'])\n",
    "print(student['city'])"
   ]
  },
  {
   "cell_type": "markdown",
   "metadata": {},
   "source": [
    "    update dict values\n",
    "    "
   ]
  },
  {
   "cell_type": "code",
   "execution_count": 62,
   "metadata": {},
   "outputs": [
    {
     "name": "stdout",
     "output_type": "stream",
     "text": [
      "{'name': 'aabid khokhar', 'age': 23, 'city': 'Islamabad', 'isEnrolled': True}\n"
     ]
    }
   ],
   "source": [
    "student['city'] = 'Islamabad'\n",
    "print(student)\n"
   ]
  },
  {
   "cell_type": "markdown",
   "metadata": {},
   "source": [
    "    Adding new key value pair"
   ]
  },
  {
   "cell_type": "code",
   "execution_count": 63,
   "metadata": {},
   "outputs": [
    {
     "name": "stdout",
     "output_type": "stream",
     "text": [
      "{'name': 'aabid khokhar', 'age': 23, 'city': 'Islamabad', 'isEnrolled': True, 'course': 'Python Fundamentals'}\n"
     ]
    }
   ],
   "source": [
    "student['course'] = \"Python Fundamentals\"\n",
    "print(student)\n"
   ]
  },
  {
   "cell_type": "markdown",
   "metadata": {},
   "source": [
    "    Remove a key value pair"
   ]
  },
  {
   "cell_type": "code",
   "execution_count": 64,
   "metadata": {},
   "outputs": [
    {
     "name": "stdout",
     "output_type": "stream",
     "text": [
      "{'name': 'aabid khokhar', 'city': 'Islamabad', 'course': 'Python Fundamentals'}\n"
     ]
    }
   ],
   "source": [
    "del student['isEnrolled']\n",
    "del student['age']\n",
    "print(student)"
   ]
  },
  {
   "cell_type": "markdown",
   "metadata": {},
   "source": [
    "# For loop"
   ]
  },
  {
   "cell_type": "code",
   "execution_count": 65,
   "metadata": {},
   "outputs": [
    {
     "name": "stdout",
     "output_type": "stream",
     "text": [
      "name\n",
      "city\n",
      "course\n"
     ]
    }
   ],
   "source": [
    "#  Only keys\n",
    "for k in student:\n",
    "    print(k)"
   ]
  },
  {
   "cell_type": "code",
   "execution_count": 66,
   "metadata": {},
   "outputs": [
    {
     "name": "stdout",
     "output_type": "stream",
     "text": [
      "name aabid khokhar\n",
      "city Islamabad\n",
      "course Python Fundamentals\n"
     ]
    }
   ],
   "source": [
    "for k, v in student.items():\n",
    "    print(k,v)"
   ]
  }
 ],
 "metadata": {
  "kernelspec": {
   "display_name": "Pythonaids",
   "language": "python",
   "name": "python3"
  },
  "language_info": {
   "codemirror_mode": {
    "name": "ipython",
    "version": 3
   },
   "file_extension": ".py",
   "mimetype": "text/x-python",
   "name": "python",
   "nbconvert_exporter": "python",
   "pygments_lexer": "ipython3",
   "version": "3.13.2"
  }
 },
 "nbformat": 4,
 "nbformat_minor": 2
}

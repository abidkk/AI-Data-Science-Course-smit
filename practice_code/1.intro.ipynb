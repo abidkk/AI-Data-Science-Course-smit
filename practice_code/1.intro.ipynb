{
 "cells": [
  {
   "cell_type": "code",
   "execution_count": 8,
   "metadata": {},
   "outputs": [
    {
     "name": "stdout",
     "output_type": "stream",
     "text": [
      "Collecting django\n",
      "  Downloading Django-5.1.6-py3-none-any.whl.metadata (4.2 kB)\n",
      "Collecting asgiref<4,>=3.8.1 (from django)\n",
      "  Downloading asgiref-3.8.1-py3-none-any.whl.metadata (9.3 kB)\n",
      "Collecting sqlparse>=0.3.1 (from django)\n",
      "  Downloading sqlparse-0.5.3-py3-none-any.whl.metadata (3.9 kB)\n",
      "Requirement already satisfied: tzdata in e:\\smit_ai_data_science_course\\ai-data-science-course-smit\\pythonaids\\lib\\site-packages (from django) (2025.1)\n",
      "Downloading Django-5.1.6-py3-none-any.whl (8.3 MB)\n",
      "   ---------------------------------------- 0.0/8.3 MB ? eta -:--:--\n",
      "   --- ------------------------------------ 0.8/8.3 MB 6.7 MB/s eta 0:00:02\n",
      "   -------- ------------------------------- 1.8/8.3 MB 5.6 MB/s eta 0:00:02\n",
      "   --------------- ------------------------ 3.1/8.3 MB 6.0 MB/s eta 0:00:01\n",
      "   --------------------- ------------------ 4.5/8.3 MB 6.1 MB/s eta 0:00:01\n",
      "   --------------------------- ------------ 5.8/8.3 MB 6.3 MB/s eta 0:00:01\n",
      "   ----------------------------------- ---- 7.3/8.3 MB 6.4 MB/s eta 0:00:01\n",
      "   ---------------------------------------- 8.3/8.3 MB 6.3 MB/s eta 0:00:00\n",
      "Downloading asgiref-3.8.1-py3-none-any.whl (23 kB)\n",
      "Downloading sqlparse-0.5.3-py3-none-any.whl (44 kB)\n",
      "Installing collected packages: sqlparse, asgiref, django\n",
      "Successfully installed asgiref-3.8.1 django-5.1.6 sqlparse-0.5.3\n"
     ]
    }
   ],
   "source": [
    "!pip install django"
   ]
  },
  {
   "cell_type": "markdown",
   "metadata": {},
   "source": [
    "!pip "
   ]
  },
  {
   "cell_type": "markdown",
   "metadata": {},
   "source": [
    "# Hello World"
   ]
  },
  {
   "cell_type": "code",
   "execution_count": 1,
   "metadata": {},
   "outputs": [
    {
     "name": "stdout",
     "output_type": "stream",
     "text": [
      "Hello, World\n",
      "Hello, Karachi\n"
     ]
    }
   ],
   "source": [
    "print('Hello, World')\n",
    "print(\"Hello, Karachi\")\n"
   ]
  },
  {
   "cell_type": "markdown",
   "metadata": {},
   "source": [
    "# Comments\n"
   ]
  },
  {
   "cell_type": "code",
   "execution_count": 9,
   "metadata": {},
   "outputs": [
    {
     "name": "stdout",
     "output_type": "stream",
     "text": [
      "Comments\n"
     ]
    }
   ],
   "source": [
    "print('Comments')\n",
    "# print('Skip')"
   ]
  }
 ],
 "metadata": {
  "kernelspec": {
   "display_name": "Pythonaids",
   "language": "python",
   "name": "python3"
  },
  "language_info": {
   "codemirror_mode": {
    "name": "ipython",
    "version": 3
   },
   "file_extension": ".py",
   "mimetype": "text/x-python",
   "name": "python",
   "nbconvert_exporter": "python",
   "pygments_lexer": "ipython3",
   "version": "3.13.2"
  }
 },
 "nbformat": 4,
 "nbformat_minor": 2
}
